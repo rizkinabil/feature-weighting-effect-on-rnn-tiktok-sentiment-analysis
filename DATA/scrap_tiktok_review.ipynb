{
 "cells": [
  {
   "cell_type": "code",
   "execution_count": 1,
   "metadata": {},
   "outputs": [],
   "source": [
    "from google_play_scraper import app\n",
    "import pandas as pd\n",
    "import numpy as np\n",
    "import csv\n",
    "import pandas as pd"
   ]
  },
  {
   "cell_type": "code",
   "execution_count": null,
   "metadata": {},
   "outputs": [],
   "source": [
    "#tiktok apps review in indonesia\n",
    "\n",
    "from google_play_scraper import  Sort, reviews\n",
    "\n",
    "\n",
    "result, continuation_token = reviews(\n",
    "    'com.ss.android.ugc.trill',\n",
    "    lang='id', # defaults to 'en'\n",
    "    country='id', # defaults to 'us'\n",
    "    sort=Sort.NEWEST, # defaults to Sort.MOST_RELEVANT\n",
    "    count=1000,\n",
    "    filter_score_with=5\n",
    "    \n",
    ")\n",
    "\n",
    "# tiktok_review = app(\n",
    "#     'com.ss.android.ugc.trill',\n",
    "#     lang='id', # defaults to 'en'\n",
    "#     country='id' # defaults to 'us'\n",
    "# )\n"
   ]
  },
  {
   "cell_type": "code",
   "execution_count": null,
   "metadata": {},
   "outputs": [],
   "source": [
    "# from google_play_scraper import Sort, reviews_all\n",
    "\n",
    "# result = reviews_all(\n",
    "#     'com.ss.android.ugc.trill',\n",
    "#     sleep_milliseconds=0, # defaults to 0\n",
    "#     lang='id', # defaults to 'en'\n",
    "#     country='id', # defaults to 'us'\n",
    "#     sort=Sort.MOST_RELEVANT, # defaults to Sort.MOST_RELEVANT\n",
    "# )"
   ]
  },
  {
   "cell_type": "code",
   "execution_count": null,
   "metadata": {},
   "outputs": [],
   "source": [
    "# only result\n",
    "df_tiktok = pd.DataFrame(np.array(result),columns=['review'])\n",
    "\n",
    "\n",
    "result = df_tiktok.join(pd.DataFrame(df_tiktok.pop('review').tolist()))\n",
    "result\n",
    "\n",
    "# print(result)"
   ]
  },
  {
   "cell_type": "code",
   "execution_count": null,
   "metadata": {},
   "outputs": [],
   "source": [
    "df_tiktok = pd.DataFrame(np.array(result),columns=['review'])\n",
    "\n",
    "\n",
    "df_tiktok_score_1 = df_tiktok.join(pd.DataFrame(df_tiktok.pop('review').tolist()))\n",
    "df_tiktok_score_1\n",
    "\n",
    "# print(result)"
   ]
  },
  {
   "cell_type": "code",
   "execution_count": null,
   "metadata": {},
   "outputs": [],
   "source": [
    "df_tiktok = pd.DataFrame(np.array(result),columns=['review'])\n",
    "\n",
    "\n",
    "df_tiktok_score_2 = df_tiktok.join(pd.DataFrame(df_tiktok.pop('review').tolist()))\n",
    "df_tiktok_score_2"
   ]
  },
  {
   "cell_type": "code",
   "execution_count": null,
   "metadata": {},
   "outputs": [],
   "source": [
    "df_tiktok = pd.DataFrame(np.array(result),columns=['review'])\n",
    "\n",
    "\n",
    "df_tiktok_score_3 = df_tiktok.join(pd.DataFrame(df_tiktok.pop('review').tolist()))\n",
    "df_tiktok_score_3"
   ]
  },
  {
   "cell_type": "code",
   "execution_count": null,
   "metadata": {},
   "outputs": [],
   "source": [
    "df_tiktok = pd.DataFrame(np.array(result),columns=['review'])\n",
    "\n",
    "\n",
    "df_tiktok_score_4 = df_tiktok.join(pd.DataFrame(df_tiktok.pop('review').tolist()))\n",
    "df_tiktok_score_4"
   ]
  },
  {
   "cell_type": "code",
   "execution_count": null,
   "metadata": {},
   "outputs": [],
   "source": [
    "df_tiktok = pd.DataFrame(np.array(result),columns=['review'])\n",
    "\n",
    "\n",
    "df_tiktok_score_5 = df_tiktok.join(pd.DataFrame(df_tiktok.pop('review').tolist()))\n",
    "df_tiktok_score_5"
   ]
  },
  {
   "cell_type": "code",
   "execution_count": null,
   "metadata": {},
   "outputs": [],
   "source": [
    "# combine data\n",
    "frames = [df_tiktok_score_1, df_tiktok_score_2, df_tiktok_score_3, df_tiktok_score_4, df_tiktok_score_5]\n",
    "  \n",
    "result = pd.concat(frames)\n",
    "display(result)"
   ]
  },
  {
   "cell_type": "code",
   "execution_count": null,
   "metadata": {},
   "outputs": [],
   "source": [
    "result.to_csv(r'D:\\kuliah\\THE ONLY TA THINGS\\DATA\\data not proccessed\\data_tiktok_tambah_5000.csv', index=False, header=True)"
   ]
  },
  {
   "cell_type": "code",
   "execution_count": null,
   "metadata": {},
   "outputs": [],
   "source": []
  }
 ],
 "metadata": {
  "kernelspec": {
   "display_name": "Python 3.10.1 64-bit",
   "language": "python",
   "name": "python3"
  },
  "language_info": {
   "codemirror_mode": {
    "name": "ipython",
    "version": 3
   },
   "file_extension": ".py",
   "mimetype": "text/x-python",
   "name": "python",
   "nbconvert_exporter": "python",
   "pygments_lexer": "ipython3",
   "version": "3.8.0"
  },
  "orig_nbformat": 4,
  "vscode": {
   "interpreter": {
    "hash": "7a6fc5b08cfc0492d5a0383abe73dea2bfb4952181345aa19ea63b702fdddc2c"
   }
  }
 },
 "nbformat": 4,
 "nbformat_minor": 2
}
