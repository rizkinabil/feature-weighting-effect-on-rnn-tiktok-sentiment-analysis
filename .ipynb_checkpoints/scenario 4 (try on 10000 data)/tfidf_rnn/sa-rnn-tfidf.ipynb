{
 "cells": [
  {
   "cell_type": "code",
   "execution_count": 43,
   "id": "fca76189",
   "metadata": {
    "scrolled": false
   },
   "outputs": [
    {
     "data": {
      "text/html": [
       "<div>\n",
       "<style scoped>\n",
       "    .dataframe tbody tr th:only-of-type {\n",
       "        vertical-align: middle;\n",
       "    }\n",
       "\n",
       "    .dataframe tbody tr th {\n",
       "        vertical-align: top;\n",
       "    }\n",
       "\n",
       "    .dataframe thead th {\n",
       "        text-align: right;\n",
       "    }\n",
       "</style>\n",
       "<table border=\"1\" class=\"dataframe\">\n",
       "  <thead>\n",
       "    <tr style=\"text-align: right;\">\n",
       "      <th></th>\n",
       "      <th>content</th>\n",
       "      <th>score</th>\n",
       "      <th>at</th>\n",
       "      <th>label</th>\n",
       "      <th>cleansing</th>\n",
       "      <th>case_folding</th>\n",
       "      <th>no_unwanted</th>\n",
       "      <th>tokenize</th>\n",
       "      <th>normalization</th>\n",
       "      <th>stopwords</th>\n",
       "      <th>stemming</th>\n",
       "      <th>clean</th>\n",
       "    </tr>\n",
       "  </thead>\n",
       "  <tbody>\n",
       "    <tr>\n",
       "      <th>0</th>\n",
       "      <td>Tanpa keterangan</td>\n",
       "      <td>4</td>\n",
       "      <td>2023-04-07 18:17:53</td>\n",
       "      <td>1</td>\n",
       "      <td>Tanpa keterangan</td>\n",
       "      <td>tanpa keterangan</td>\n",
       "      <td>tanpa keterangan</td>\n",
       "      <td>['tanpa', 'keterangan']</td>\n",
       "      <td>['tanpa', 'keterangan']</td>\n",
       "      <td>['keterangan']</td>\n",
       "      <td>['terang']</td>\n",
       "      <td>terang</td>\n",
       "    </tr>\n",
       "    <tr>\n",
       "      <th>1</th>\n",
       "      <td>Sangat menghibur</td>\n",
       "      <td>5</td>\n",
       "      <td>2023-04-09 22:23:31</td>\n",
       "      <td>1</td>\n",
       "      <td>Sangat menghibur</td>\n",
       "      <td>sangat menghibur</td>\n",
       "      <td>sangat menghibur</td>\n",
       "      <td>['sangat', 'menghibur']</td>\n",
       "      <td>['sangat', 'menghibur']</td>\n",
       "      <td>['menghibur']</td>\n",
       "      <td>['hibur']</td>\n",
       "      <td>hibur</td>\n",
       "    </tr>\n",
       "    <tr>\n",
       "      <th>2</th>\n",
       "      <td>Tidak dapat di instal</td>\n",
       "      <td>1</td>\n",
       "      <td>2023-04-12 21:45:11</td>\n",
       "      <td>-1</td>\n",
       "      <td>Tidak dapat di instal</td>\n",
       "      <td>tidak dapat di instal</td>\n",
       "      <td>tidak dapat di instal</td>\n",
       "      <td>['tidak', 'dapat', 'di', 'instal']</td>\n",
       "      <td>['tidak', 'dapat', 'di', 'install']</td>\n",
       "      <td>['install']</td>\n",
       "      <td>['install']</td>\n",
       "      <td>install</td>\n",
       "    </tr>\n",
       "    <tr>\n",
       "      <th>3</th>\n",
       "      <td>Bagus banget siapapun yg buat ini bagus bgt🤩🤩🤩🤩🤩</td>\n",
       "      <td>5</td>\n",
       "      <td>2023-04-13 16:11:48</td>\n",
       "      <td>1</td>\n",
       "      <td>Bagus banget siapapun yg buat ini bagus bgt</td>\n",
       "      <td>bagus banget siapapun yg buat ini bagus bgt</td>\n",
       "      <td>bagus banget siapapun yg buat ini bagus bgt</td>\n",
       "      <td>['bagus', 'banget', 'siapapun', 'yg', 'buat', ...</td>\n",
       "      <td>['bagus', 'banget', 'siapapun', 'yang', 'buat'...</td>\n",
       "      <td>['bagus', 'banget', 'bagus', 'banget']</td>\n",
       "      <td>['bagus', 'banget', 'bagus', 'banget']</td>\n",
       "      <td>bagus banget bagus banget</td>\n",
       "    </tr>\n",
       "    <tr>\n",
       "      <th>4</th>\n",
       "      <td>Aplikasinya sangat bagus</td>\n",
       "      <td>5</td>\n",
       "      <td>2023-04-08 21:57:58</td>\n",
       "      <td>1</td>\n",
       "      <td>Aplikasinya sangat bagus</td>\n",
       "      <td>aplikasinya sangat bagus</td>\n",
       "      <td>aplikasinya sangat bagus</td>\n",
       "      <td>['aplikasinya', 'sangat', 'bagus']</td>\n",
       "      <td>['aplikasinya', 'sangat', 'bagus']</td>\n",
       "      <td>['aplikasinya', 'bagus']</td>\n",
       "      <td>['aplikasi', 'bagus']</td>\n",
       "      <td>aplikasi bagus</td>\n",
       "    </tr>\n",
       "  </tbody>\n",
       "</table>\n",
       "</div>"
      ],
      "text/plain": [
       "                                            content  score   \n",
       "0                                  Tanpa keterangan      4  \\\n",
       "1                                  Sangat menghibur      5   \n",
       "2                             Tidak dapat di instal      1   \n",
       "3  Bagus banget siapapun yg buat ini bagus bgt🤩🤩🤩🤩🤩      5   \n",
       "4                          Aplikasinya sangat bagus      5   \n",
       "\n",
       "                    at  label                                     cleansing   \n",
       "0  2023-04-07 18:17:53      1                              Tanpa keterangan  \\\n",
       "1  2023-04-09 22:23:31      1                              Sangat menghibur   \n",
       "2  2023-04-12 21:45:11     -1                         Tidak dapat di instal   \n",
       "3  2023-04-13 16:11:48      1  Bagus banget siapapun yg buat ini bagus bgt    \n",
       "4  2023-04-08 21:57:58      1                      Aplikasinya sangat bagus   \n",
       "\n",
       "                                   case_folding   \n",
       "0                              tanpa keterangan  \\\n",
       "1                              sangat menghibur   \n",
       "2                         tidak dapat di instal   \n",
       "3  bagus banget siapapun yg buat ini bagus bgt    \n",
       "4                      aplikasinya sangat bagus   \n",
       "\n",
       "                                    no_unwanted   \n",
       "0                              tanpa keterangan  \\\n",
       "1                              sangat menghibur   \n",
       "2                         tidak dapat di instal   \n",
       "3  bagus banget siapapun yg buat ini bagus bgt    \n",
       "4                      aplikasinya sangat bagus   \n",
       "\n",
       "                                            tokenize   \n",
       "0                            ['tanpa', 'keterangan']  \\\n",
       "1                            ['sangat', 'menghibur']   \n",
       "2                 ['tidak', 'dapat', 'di', 'instal']   \n",
       "3  ['bagus', 'banget', 'siapapun', 'yg', 'buat', ...   \n",
       "4                 ['aplikasinya', 'sangat', 'bagus']   \n",
       "\n",
       "                                       normalization   \n",
       "0                            ['tanpa', 'keterangan']  \\\n",
       "1                            ['sangat', 'menghibur']   \n",
       "2                ['tidak', 'dapat', 'di', 'install']   \n",
       "3  ['bagus', 'banget', 'siapapun', 'yang', 'buat'...   \n",
       "4                 ['aplikasinya', 'sangat', 'bagus']   \n",
       "\n",
       "                                stopwords   \n",
       "0                          ['keterangan']  \\\n",
       "1                           ['menghibur']   \n",
       "2                             ['install']   \n",
       "3  ['bagus', 'banget', 'bagus', 'banget']   \n",
       "4                ['aplikasinya', 'bagus']   \n",
       "\n",
       "                                 stemming                      clean  \n",
       "0                              ['terang']                     terang  \n",
       "1                               ['hibur']                      hibur  \n",
       "2                             ['install']                    install  \n",
       "3  ['bagus', 'banget', 'bagus', 'banget']  bagus banget bagus banget  \n",
       "4                   ['aplikasi', 'bagus']             aplikasi bagus  "
      ]
     },
     "execution_count": 43,
     "metadata": {},
     "output_type": "execute_result"
    }
   ],
   "source": [
    "import pandas as pd\n",
    "import numpy as np\n",
    "import tensorflow as tf\n",
    "from sklearn.feature_extraction.text import TfidfVectorizer\n",
    "\n",
    "\n",
    "from tensorflow.keras.models import Sequential\n",
    "from tensorflow.keras.layers import Dense, Dropout, LSTM, Bidirectional, SimpleRNN\n",
    "from tensorflow.keras.utils import to_categorical\n",
    "\n",
    "# Load the dataset from a CSV file\n",
    "df = pd.read_csv('D:\\kuliah\\THE ONLY TA THINGS\\DATA\\data clean\\cleaned_data_5000.csv')\n",
    "df.head()"
   ]
  },
  {
   "attachments": {},
   "cell_type": "markdown",
   "id": "8e09c119",
   "metadata": {},
   "source": [
    "_`Define Hyperparameter and constatn variables`_"
   ]
  },
  {
   "cell_type": "code",
   "execution_count": 44,
   "id": "a84076d1",
   "metadata": {},
   "outputs": [],
   "source": [
    "# constants\n",
    "TFIDF_MAX_FEATURES = 1000\n",
    "EPOCH_VAL = 10\n",
    "NUM_CLASSES = 3\n",
    "BATCH_SIZE = 32"
   ]
  },
  {
   "cell_type": "code",
   "execution_count": 45,
   "id": "d0dbe80d",
   "metadata": {},
   "outputs": [],
   "source": [
    "# Split the data into features and labels\n",
    "reviews = df['clean'].astype(str).values\n",
    "\n",
    "raw_label = df['label']\n",
    "# labels = pd.get_dummies(raw_label).astype(int).values\n",
    "labels = to_categorical(raw_label, num_classes=NUM_CLASSES)\n"
   ]
  },
  {
   "cell_type": "code",
   "execution_count": 46,
   "id": "2ea8a563",
   "metadata": {},
   "outputs": [
    {
     "data": {
      "text/plain": [
       "array([[0., 1., 0.],\n",
       "       [0., 1., 0.],\n",
       "       [0., 0., 1.],\n",
       "       ...,\n",
       "       [0., 1., 0.],\n",
       "       [0., 1., 0.],\n",
       "       [0., 1., 0.]], dtype=float32)"
      ]
     },
     "execution_count": 46,
     "metadata": {},
     "output_type": "execute_result"
    }
   ],
   "source": [
    "labels"
   ]
  },
  {
   "cell_type": "code",
   "execution_count": 47,
   "id": "171333b7",
   "metadata": {},
   "outputs": [],
   "source": [
    "# Split the data into training and testing sets\n",
    "from sklearn.model_selection import train_test_split\n",
    "review_train, review_test, label_train, label_test = train_test_split(reviews, labels, test_size=0.3, random_state=42)"
   ]
  },
  {
   "cell_type": "code",
   "execution_count": 48,
   "id": "a93cbe60",
   "metadata": {},
   "outputs": [],
   "source": [
    "# Tokenize and vectorize the tweets using TF-IDF\n",
    "tfidf_vectorizer = TfidfVectorizer(max_features=TFIDF_MAX_FEATURES)\n",
    "tfidf_review_train = tfidf_vectorizer.fit_transform(review_train).toarray()\n",
    "tfidf_review_test = tfidf_vectorizer.transform(review_test).toarray()\n",
    "\n",
    "max_length = tfidf_review_train.shape[1]\n",
    "\n",
    "# add an additional dimension for the max_length dimension\n",
    "tfidf_review_train = tfidf_review_train.reshape(tfidf_review_train.shape[0], 1, tfidf_review_train.shape[1])\n",
    "tfidf_review_test = tfidf_review_test.reshape(tfidf_review_test.shape[0], 1, tfidf_review_test.shape[1])\n",
    "\n"
   ]
  },
  {
   "cell_type": "code",
   "execution_count": 49,
   "id": "7fe9ebff",
   "metadata": {},
   "outputs": [
    {
     "name": "stdout",
     "output_type": "stream",
     "text": [
      "x_train:  (3500, 1, 1000)\n",
      "x_test:  (1500, 1, 1000)\n",
      "y_train:  (3500, 3)\n",
      "y_test:  (1500, 3)\n",
      "max_length:  1000\n"
     ]
    }
   ],
   "source": [
    "print(\"x_train: \", tfidf_review_train.shape)\n",
    "print(\"x_test: \", tfidf_review_test.shape)\n",
    "print(\"y_train: \", label_train.shape)\n",
    "print(\"y_test: \", label_test.shape)\n",
    "print(\"max_length: \", max_length)"
   ]
  },
  {
   "cell_type": "code",
   "execution_count": 50,
   "id": "421d43b4",
   "metadata": {},
   "outputs": [],
   "source": [
    "def rnn_model():\n",
    "    model = Sequential()\n",
    "    # # add bidirectional LSTM layer\n",
    "    # model.add(Bidirectional(LSTM(units=64, return_sequences=True), input_shape=(max_length,)))\n",
    "    model.add(SimpleRNN(units=64, input_shape=(1, max_length)))\n",
    "    # add dropout layer to reduce overfitting\n",
    "    model.add(Dropout(0.2))\n",
    "    # add dense layer with softmax activation for multi-class classification\n",
    "    model.add(Dense(units=3, activation='softmax'))\n",
    "    # compile the model\n",
    "    model.compile(optimizer='adam', loss='categorical_crossentropy', metrics=['accuracy'])\n",
    "    return model\n",
    "    "
   ]
  },
  {
   "cell_type": "code",
   "execution_count": 51,
   "id": "a0396761",
   "metadata": {},
   "outputs": [
    {
     "name": "stdout",
     "output_type": "stream",
     "text": [
      "Epoch 1/10\n",
      "110/110 [==============================] - 2s 6ms/step - loss: 0.7022 - accuracy: 0.7900 - val_loss: 0.5254 - val_accuracy: 0.8040\n",
      "Epoch 2/10\n",
      "110/110 [==============================] - 0s 4ms/step - loss: 0.4886 - accuracy: 0.8177 - val_loss: 0.4656 - val_accuracy: 0.8320\n",
      "Epoch 3/10\n",
      "110/110 [==============================] - 0s 4ms/step - loss: 0.4284 - accuracy: 0.8571 - val_loss: 0.4413 - val_accuracy: 0.8373\n",
      "Epoch 4/10\n",
      "110/110 [==============================] - 1s 5ms/step - loss: 0.3860 - accuracy: 0.8774 - val_loss: 0.4312 - val_accuracy: 0.8487\n",
      "Epoch 5/10\n",
      "110/110 [==============================] - 1s 5ms/step - loss: 0.3606 - accuracy: 0.8874 - val_loss: 0.4266 - val_accuracy: 0.8540\n",
      "Epoch 6/10\n",
      "110/110 [==============================] - 0s 4ms/step - loss: 0.3374 - accuracy: 0.8957 - val_loss: 0.4272 - val_accuracy: 0.8573\n",
      "Epoch 7/10\n",
      "110/110 [==============================] - 0s 4ms/step - loss: 0.3191 - accuracy: 0.9060 - val_loss: 0.4275 - val_accuracy: 0.8567\n",
      "Epoch 8/10\n",
      "110/110 [==============================] - 0s 4ms/step - loss: 0.3053 - accuracy: 0.9109 - val_loss: 0.4308 - val_accuracy: 0.8613\n",
      "Epoch 9/10\n",
      "110/110 [==============================] - 0s 4ms/step - loss: 0.2955 - accuracy: 0.9137 - val_loss: 0.4372 - val_accuracy: 0.8580\n",
      "Epoch 10/10\n",
      "110/110 [==============================] - 1s 5ms/step - loss: 0.2846 - accuracy: 0.9186 - val_loss: 0.4391 - val_accuracy: 0.8620\n"
     ]
    }
   ],
   "source": [
    "model = rnn_model()\n",
    "model_fit_result = model.fit(tfidf_review_train, label_train, batch_size=BATCH_SIZE, epochs=EPOCH_VAL, validation_data=(tfidf_review_test, label_test))\n"
   ]
  },
  {
   "cell_type": "code",
   "execution_count": 52,
   "id": "d6a8c2bc",
   "metadata": {},
   "outputs": [
    {
     "name": "stdout",
     "output_type": "stream",
     "text": [
      "47/47 [==============================] - 0s 2ms/step\n"
     ]
    }
   ],
   "source": [
    "# Predict the labels for the testing data\n",
    "label_pred_prob = model.predict(tfidf_review_test)\n",
    "label_pred = label_pred_prob.argmax(axis=1)-1\n",
    "label_test_one_dim = np.argmax(label_test, axis=1)-1"
   ]
  },
  {
   "cell_type": "code",
   "execution_count": 53,
   "id": "5d0c274b",
   "metadata": {
    "scrolled": false
   },
   "outputs": [
    {
     "name": "stdout",
     "output_type": "stream",
     "text": [
      "0.862\n",
      "[[  14   40   12]\n",
      " [   6 1159   41]\n",
      " [   2  106  120]]\n",
      "              precision    recall  f1-score   support\n",
      "\n",
      "          -1       0.64      0.21      0.32        66\n",
      "           0       0.89      0.96      0.92      1206\n",
      "           1       0.69      0.53      0.60       228\n",
      "\n",
      "    accuracy                           0.86      1500\n",
      "   macro avg       0.74      0.57      0.61      1500\n",
      "weighted avg       0.85      0.86      0.85      1500\n",
      "\n",
      "Precision:  0.7393759534082437\n",
      "Recall:  0.5664883979887908\n",
      "F1:  0.6132745835951979\n",
      "Accuracy:  0.862\n"
     ]
    }
   ],
   "source": [
    "from sklearn.metrics import classification_report, confusion_matrix, accuracy_score, precision_score, recall_score, f1_score\n",
    "\n",
    "print(accuracy_score(label_test_one_dim, label_pred))\n",
    "print(confusion_matrix(label_test_one_dim, label_pred))\n",
    "print(classification_report(label_test_one_dim, label_pred))\n",
    "print(\"Precision: \",precision_score(label_test_one_dim, label_pred, average=\"macro\"))\n",
    "print(\"Recall: \",recall_score(label_test_one_dim, label_pred, average=\"macro\"))\n",
    "print(\"F1: \",f1_score(label_test_one_dim, label_pred,  average=\"macro\"))\n",
    "print(\"Accuracy: \",accuracy_score(label_test_one_dim, label_pred))"
   ]
  },
  {
   "cell_type": "code",
   "execution_count": 54,
   "id": "bcbe6cd3",
   "metadata": {
    "scrolled": true
   },
   "outputs": [
    {
     "data": {
      "image/png": "[encoded data removed]",
      "text/plain": [
       "<Figure size 640x480 with 1 Axes>"
      ]
     },
     "metadata": {},
     "output_type": "display_data"
    }
   ],
   "source": [
    "import matplotlib.pyplot as plt\n",
    "plt.figure()\n",
    "plt.plot(model_fit_result.history['loss'], lw=2.0, color='b', label='train')\n",
    "plt.plot(model_fit_result.history['val_loss'], lw=2.0, color='r', label='val')\n",
    "plt.title('RNN sentiment')\n",
    "plt.xlabel('Epochs')\n",
    "plt.ylabel('Cross-Entropy Loss')\n",
    "plt.legend(loc ='upper right')\n",
    "plt.show()"
   ]
  },
  {
   "cell_type": "code",
   "execution_count": 55,
   "id": "33c0c36c",
   "metadata": {
    "scrolled": true
   },
   "outputs": [
    {
     "data": {
      "image/png": "[encoded data removed]",
      "text/plain": [
       "<Figure size 640x480 with 1 Axes>"
      ]
     },
     "metadata": {},
     "output_type": "display_data"
    }
   ],
   "source": [
    "plt.figure()\n",
    "plt.plot(model_fit_result.history['accuracy'], lw=2.0, color='b', label='train')\n",
    "plt.plot(model_fit_result.history['val_accuracy'], lw=2.0, color='r', label='val')\n",
    "plt.title('RNN sentiment')\n",
    "plt.xlabel('Epochs')\n",
    "plt.ylabel('Accuracy')\n",
    "plt.legend(loc='upper left')\n",
    "plt.show()"
   ]
  },
  {
   "cell_type": "code",
   "execution_count": 56,
   "id": "222171a1",
   "metadata": {},
   "outputs": [
    {
     "name": "stdout",
     "output_type": "stream",
     "text": [
      "Model: \"sequential_3\"\n",
      "_________________________________________________________________\n",
      " Layer (type)                Output Shape              Param #   \n",
      "=================================================================\n",
      " simple_rnn_3 (SimpleRNN)    (None, 64)                68160     \n",
      "                                                                 \n",
      " dropout_3 (Dropout)         (None, 64)                0         \n",
      "                                                                 \n",
      " dense_3 (Dense)             (None, 3)                 195       \n",
      "                                                                 \n",
      "=================================================================\n",
      "Total params: 68,355\n",
      "Trainable params: 68,355\n",
      "Non-trainable params: 0\n",
      "_________________________________________________________________\n"
     ]
    }
   ],
   "source": [
    "model.summary()"
   ]
  },
  {
   "cell_type": "code",
   "execution_count": null,
   "id": "ce8f02a1",
   "metadata": {},
   "outputs": [],
   "source": []
  }
 ],
 "metadata": {
  "kernelspec": {
   "display_name": "Python 3 (ipykernel)",
   "language": "python",
   "name": "python3"
  },
  "language_info": {
   "codemirror_mode": {
    "name": "ipython",
    "version": 3
   },
   "file_extension": ".py",
   "mimetype": "text/x-python",
   "name": "python",
   "nbconvert_exporter": "python",
   "pygments_lexer": "ipython3",
   "version": "3.8.0"
  }
 },
 "nbformat": 4,
 "nbformat_minor": 5
}
