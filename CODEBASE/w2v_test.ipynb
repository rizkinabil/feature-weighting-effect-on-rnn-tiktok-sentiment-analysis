{
 "cells": [
  {
   "cell_type": "code",
   "execution_count": 2,
   "metadata": {},
   "outputs": [],
   "source": [
    "import gensim\n",
    "import pandas as pd\n",
    "import numpy"
   ]
  },
  {
   "cell_type": "code",
   "execution_count": 3,
   "metadata": {},
   "outputs": [
    {
     "data": {
      "text/html": [
       "<div>\n",
       "<style scoped>\n",
       "    .dataframe tbody tr th:only-of-type {\n",
       "        vertical-align: middle;\n",
       "    }\n",
       "\n",
       "    .dataframe tbody tr th {\n",
       "        vertical-align: top;\n",
       "    }\n",
       "\n",
       "    .dataframe thead th {\n",
       "        text-align: right;\n",
       "    }\n",
       "</style>\n",
       "<table border=\"1\" class=\"dataframe\">\n",
       "  <thead>\n",
       "    <tr style=\"text-align: right;\">\n",
       "      <th></th>\n",
       "      <th>content</th>\n",
       "      <th>stemming</th>\n",
       "      <th>label</th>\n",
       "    </tr>\n",
       "  </thead>\n",
       "  <tbody>\n",
       "    <tr>\n",
       "      <th>0</th>\n",
       "      <td>bagus</td>\n",
       "      <td>['bagus']</td>\n",
       "      <td>-1.0</td>\n",
       "    </tr>\n",
       "    <tr>\n",
       "      <th>1</th>\n",
       "      <td>Tampa tik tok hidub terasa sepi🤣🤣</td>\n",
       "      <td>['tampa', 'hidub', 'sepi', '', '']</td>\n",
       "      <td>1.0</td>\n",
       "    </tr>\n",
       "    <tr>\n",
       "      <th>2</th>\n",
       "      <td>Goid</td>\n",
       "      <td>['goid']</td>\n",
       "      <td>1.0</td>\n",
       "    </tr>\n",
       "    <tr>\n",
       "      <th>3</th>\n",
       "      <td>sangat bagus</td>\n",
       "      <td>['bagus']</td>\n",
       "      <td>1.0</td>\n",
       "    </tr>\n",
       "    <tr>\n",
       "      <th>4</th>\n",
       "      <td>P im ZZ@@@</td>\n",
       "      <td>['im', 'zz']</td>\n",
       "      <td>1.0</td>\n",
       "    </tr>\n",
       "    <tr>\n",
       "      <th>...</th>\n",
       "      <td>...</td>\n",
       "      <td>...</td>\n",
       "      <td>...</td>\n",
       "    </tr>\n",
       "    <tr>\n",
       "      <th>276</th>\n",
       "      <td>Baguss bagusss abguss baguss bagusss bagsusus ...</td>\n",
       "      <td>['baguss', 'bagusss', 'abguss', 'baguss', 'bag...</td>\n",
       "      <td>1.0</td>\n",
       "    </tr>\n",
       "    <tr>\n",
       "      <th>277</th>\n",
       "      <td>Saya suka aplikasi tik tok ini. Saya suka bang...</td>\n",
       "      <td>['suka', 'aplikasi', 'suka', 'banget', 'adik',...</td>\n",
       "      <td>1.0</td>\n",
       "    </tr>\n",
       "    <tr>\n",
       "      <th>278</th>\n",
       "      <td>Halo developer, saya pengguna tiktok dengan na...</td>\n",
       "      <td>['developer', 'guna', 'tiktok', 'nama', 'epw',...</td>\n",
       "      <td>-1.0</td>\n",
       "    </tr>\n",
       "    <tr>\n",
       "      <th>279</th>\n",
       "      <td>Bgs tapi Vidio ku gk masukk fyp🗿</td>\n",
       "      <td>['bagus', 'vidio', 'ku', 'tidak', 'masukk', 'f...</td>\n",
       "      <td>1.0</td>\n",
       "    </tr>\n",
       "    <tr>\n",
       "      <th>280</th>\n",
       "      <td>y gt</td>\n",
       "      <td>[]</td>\n",
       "      <td>1.0</td>\n",
       "    </tr>\n",
       "  </tbody>\n",
       "</table>\n",
       "<p>281 rows × 3 columns</p>\n",
       "</div>"
      ],
      "text/plain": [
       "                                               content  \\\n",
       "0                                                bagus   \n",
       "1                    Tampa tik tok hidub terasa sepi🤣🤣   \n",
       "2                                                 Goid   \n",
       "3                                         sangat bagus   \n",
       "4                                           P im ZZ@@@   \n",
       "..                                                 ...   \n",
       "276  Baguss bagusss abguss baguss bagusss bagsusus ...   \n",
       "277  Saya suka aplikasi tik tok ini. Saya suka bang...   \n",
       "278  Halo developer, saya pengguna tiktok dengan na...   \n",
       "279                   Bgs tapi Vidio ku gk masukk fyp🗿   \n",
       "280                                               y gt   \n",
       "\n",
       "                                              stemming  label  \n",
       "0                                            ['bagus']   -1.0  \n",
       "1                   ['tampa', 'hidub', 'sepi', '', '']    1.0  \n",
       "2                                             ['goid']    1.0  \n",
       "3                                            ['bagus']    1.0  \n",
       "4                                         ['im', 'zz']    1.0  \n",
       "..                                                 ...    ...  \n",
       "276  ['baguss', 'bagusss', 'abguss', 'baguss', 'bag...    1.0  \n",
       "277  ['suka', 'aplikasi', 'suka', 'banget', 'adik',...    1.0  \n",
       "278  ['developer', 'guna', 'tiktok', 'nama', 'epw',...   -1.0  \n",
       "279  ['bagus', 'vidio', 'ku', 'tidak', 'masukk', 'f...    1.0  \n",
       "280                                                 []    1.0  \n",
       "\n",
       "[281 rows x 3 columns]"
      ]
     },
     "execution_count": 3,
     "metadata": {},
     "output_type": "execute_result"
    }
   ],
   "source": [
    "dataset = pd.read_csv('../DATA/cleaned_data_review.csv')\n",
    "dataset"
   ]
  },
  {
   "cell_type": "code",
   "execution_count": null,
   "metadata": {},
   "outputs": [],
   "source": [
    "path = '../MODEL/idwiki_word2vec_100/idwiki_word2vec_100.model'\n",
    "id_w2v = gensim.models.word2vec.Word2Vec.load(path)\n",
    "print(id_w2v.wv.most_similar('raja'))"
   ]
  },
  {
   "cell_type": "code",
   "execution_count": null,
   "metadata": {},
   "outputs": [],
   "source": [
    "sampel = dataset[dataset.stemming != '[]']\n",
    "sampel = sampel.drop(['content'], axis=1)\n",
    "dataset"
   ]
  },
  {
   "cell_type": "code",
   "execution_count": null,
   "metadata": {},
   "outputs": [],
   "source": [
    "sampel[\"clean_question\"] = sampel[\"stemming\"].apply(lambda x: \" \".join(x))\n",
    "sampel.head()"
   ]
  },
  {
   "cell_type": "code",
   "execution_count": null,
   "metadata": {},
   "outputs": [],
   "source": [
    "sampel.dtypes"
   ]
  },
  {
   "cell_type": "code",
   "execution_count": null,
   "metadata": {},
   "outputs": [],
   "source": [
    "a = sampel.iloc[:,[0]].values\n",
    "a[1][0][0:9]"
   ]
  },
  {
   "cell_type": "code",
   "execution_count": null,
   "metadata": {},
   "outputs": [],
   "source": [
    "def embed(x):\n",
    "    embeded_data = id_w2v.wv[x]\n",
    "    return embeded_data"
   ]
  },
  {
   "cell_type": "code",
   "execution_count": null,
   "metadata": {},
   "outputs": [],
   "source": [
    "df['vec'] = df['stemming'].apply(lambda x: get_vec(x))"
   ]
  },
  {
   "cell_type": "code",
   "execution_count": null,
   "metadata": {},
   "outputs": [],
   "source": []
  },
  {
   "cell_type": "code",
   "execution_count": null,
   "metadata": {},
   "outputs": [],
   "source": []
  }
 ],
 "metadata": {
  "kernelspec": {
   "display_name": "Python 3",
   "language": "python",
   "name": "python3"
  },
  "language_info": {
   "codemirror_mode": {
    "name": "ipython",
    "version": 3
   },
   "file_extension": ".py",
   "mimetype": "text/x-python",
   "name": "python",
   "nbconvert_exporter": "python",
   "pygments_lexer": "ipython3",
   "version": "3.10.1"
  },
  "orig_nbformat": 4
 },
 "nbformat": 4,
 "nbformat_minor": 2
}
