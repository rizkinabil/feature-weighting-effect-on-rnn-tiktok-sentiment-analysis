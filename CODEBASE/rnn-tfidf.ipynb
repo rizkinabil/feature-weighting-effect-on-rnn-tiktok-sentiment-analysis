{
 "cells": [
  {
   "attachments": {},
   "cell_type": "markdown",
   "metadata": {},
   "source": [
    "## sentiment analysis - TFIDF feature weighting with RNN classification"
   ]
  },
  {
   "attachments": {},
   "cell_type": "markdown",
   "metadata": {},
   "source": [
    "`Term Weighting = TFIDF`"
   ]
  },
  {
   "attachments": {},
   "cell_type": "markdown",
   "metadata": {},
   "source": [
    "# Libraries"
   ]
  },
  {
   "cell_type": "code",
   "execution_count": 2,
   "metadata": {},
   "outputs": [],
   "source": [
    "import pandas as pd\n",
    "import numpy as np\n",
    "import numpy as np \n",
    "import re #RegEx\n",
    "import itertools\n",
    "import matplotlib.pyplot as plt\n",
    "\n",
    "from sklearn.feature_extraction.text import TfidfVectorizer, CountVectorizer #Count Vector Space Model\n",
    "from sklearn import metrics #Matrix Builder\n",
    "from sklearn.metrics import accuracy_score  \n",
    "from sklearn.model_selection import KFold #Import KFold\n",
    "from sklearn.metrics import confusion_matrix\n",
    "from sklearn.metrics import classification_report"
   ]
  },
  {
   "attachments": {},
   "cell_type": "markdown",
   "metadata": {},
   "source": [
    "# Load Dataset"
   ]
  },
  {
   "attachments": {},
   "cell_type": "markdown",
   "metadata": {},
   "source": [
    "_`preprocessed dataset`_"
   ]
  },
  {
   "cell_type": "code",
   "execution_count": 3,
   "metadata": {},
   "outputs": [
    {
     "data": {
      "text/html": [
       "<div>\n",
       "<style scoped>\n",
       "    .dataframe tbody tr th:only-of-type {\n",
       "        vertical-align: middle;\n",
       "    }\n",
       "\n",
       "    .dataframe tbody tr th {\n",
       "        vertical-align: top;\n",
       "    }\n",
       "\n",
       "    .dataframe thead th {\n",
       "        text-align: right;\n",
       "    }\n",
       "</style>\n",
       "<table border=\"1\" class=\"dataframe\">\n",
       "  <thead>\n",
       "    <tr style=\"text-align: right;\">\n",
       "      <th></th>\n",
       "      <th>content</th>\n",
       "      <th>stemming</th>\n",
       "      <th>label</th>\n",
       "    </tr>\n",
       "  </thead>\n",
       "  <tbody>\n",
       "    <tr>\n",
       "      <th>0</th>\n",
       "      <td>bagus</td>\n",
       "      <td>['bagus']</td>\n",
       "      <td>-1.0</td>\n",
       "    </tr>\n",
       "    <tr>\n",
       "      <th>1</th>\n",
       "      <td>Tampa tik tok hidub terasa sepi🤣🤣</td>\n",
       "      <td>['tampa', 'hidub', 'sepi', '', '']</td>\n",
       "      <td>1.0</td>\n",
       "    </tr>\n",
       "    <tr>\n",
       "      <th>2</th>\n",
       "      <td>Goid</td>\n",
       "      <td>['goid']</td>\n",
       "      <td>1.0</td>\n",
       "    </tr>\n",
       "    <tr>\n",
       "      <th>3</th>\n",
       "      <td>sangat bagus</td>\n",
       "      <td>['bagus']</td>\n",
       "      <td>1.0</td>\n",
       "    </tr>\n",
       "    <tr>\n",
       "      <th>4</th>\n",
       "      <td>P im ZZ@@@</td>\n",
       "      <td>['im', 'zz']</td>\n",
       "      <td>1.0</td>\n",
       "    </tr>\n",
       "  </tbody>\n",
       "</table>\n",
       "</div>"
      ],
      "text/plain": [
       "                             content                            stemming  \\\n",
       "0                              bagus                           ['bagus']   \n",
       "1  Tampa tik tok hidub terasa sepi🤣🤣  ['tampa', 'hidub', 'sepi', '', '']   \n",
       "2                               Goid                            ['goid']   \n",
       "3                       sangat bagus                           ['bagus']   \n",
       "4                         P im ZZ@@@                        ['im', 'zz']   \n",
       "\n",
       "   label  \n",
       "0   -1.0  \n",
       "1    1.0  \n",
       "2    1.0  \n",
       "3    1.0  \n",
       "4    1.0  "
      ]
     },
     "execution_count": 3,
     "metadata": {},
     "output_type": "execute_result"
    }
   ],
   "source": [
    "df = pd.read_csv('D:\\kuliah\\THE ONLY TA THINGS\\DATA\\cleaned_data_review.csv')\n",
    "df.head()"
   ]
  },
  {
   "cell_type": "code",
   "execution_count": 4,
   "metadata": {},
   "outputs": [],
   "source": [
    "df = df.dropna()\n",
    "df = df.reset_index(drop=True)"
   ]
  },
  {
   "cell_type": "code",
   "execution_count": 5,
   "metadata": {},
   "outputs": [
    {
     "data": {
      "text/plain": [
       "content     0\n",
       "stemming    0\n",
       "label       0\n",
       "dtype: int64"
      ]
     },
     "execution_count": 5,
     "metadata": {},
     "output_type": "execute_result"
    }
   ],
   "source": [
    "df.isnull().sum()"
   ]
  },
  {
   "attachments": {},
   "cell_type": "markdown",
   "metadata": {},
   "source": [
    "_`total label value`_"
   ]
  },
  {
   "cell_type": "code",
   "execution_count": 6,
   "metadata": {},
   "outputs": [
    {
     "data": {
      "text/plain": [
       " 1.0    196\n",
       "-1.0     76\n",
       " 0.0      9\n",
       "Name: label, dtype: int64"
      ]
     },
     "execution_count": 6,
     "metadata": {},
     "output_type": "execute_result"
    }
   ],
   "source": [
    "df['label'].value_counts()"
   ]
  },
  {
   "attachments": {},
   "cell_type": "markdown",
   "metadata": {},
   "source": [
    "# TFIDF for feature weighting"
   ]
  },
  {
   "cell_type": "code",
   "execution_count": 7,
   "metadata": {},
   "outputs": [],
   "source": [
    "tfidf_vect = TfidfVectorizer(use_idf = True ,max_features = 5000)\n",
    "x = tfidf_vect.fit(df['stemming'])\n",
    "TFIDF = x.transform(df['stemming'])"
   ]
  },
  {
   "cell_type": "code",
   "execution_count": 8,
   "metadata": {},
   "outputs": [
    {
     "name": "stdout",
     "output_type": "stream",
     "text": [
      "  (0, 47)\t1.0\n",
      "  (1, 470)\t0.5773502691896258\n",
      "  (1, 432)\t0.5773502691896258\n",
      "  (1, 192)\t0.5773502691896258\n",
      "  (2, 175)\t1.0\n",
      "  (3, 47)\t1.0\n",
      "  (4, 534)\t0.7494185269080749\n",
      "  (4, 204)\t0.6620965726591033\n",
      "  (5, 44)\t1.0\n",
      "  (6, 532)\t0.3551453597160012\n",
      "  (6, 489)\t0.18778267417527644\n",
      "  (6, 204)\t0.3137639610190629\n",
      "  (6, 197)\t0.3551453597160012\n",
      "  (6, 182)\t0.7102907194320024\n",
      "  (6, 30)\t0.330938793250901\n",
      "  (7, 340)\t1.0\n",
      "  (8, 243)\t1.0\n",
      "  (10, 516)\t0.3479326685746\n",
      "  (10, 497)\t0.2482249036101164\n",
      "  (10, 448)\t0.3479326685746\n",
      "  (10, 397)\t0.3479326685746\n",
      "  (10, 266)\t0.3479326685746\n",
      "  (10, 64)\t0.2943404097835192\n",
      "  (10, 13)\t0.3479326685746\n",
      "  (10, 10)\t0.4964498072202328\n",
      "  :\t:\n",
      "  (278, 498)\t0.41441396520275753\n",
      "  (278, 489)\t0.11757425268417351\n",
      "  (278, 427)\t0.22236316766841754\n",
      "  (278, 408)\t0.22236316766841754\n",
      "  (278, 338)\t0.19645349816250246\n",
      "  (278, 309)\t0.22236316766841754\n",
      "  (278, 274)\t0.20720698260137876\n",
      "  (278, 256)\t0.22236316766841754\n",
      "  (278, 240)\t0.22236316766841754\n",
      "  (278, 218)\t0.22236316766841754\n",
      "  (278, 178)\t0.19645349816250246\n",
      "  (278, 143)\t0.22236316766841754\n",
      "  (278, 133)\t0.22236316766841754\n",
      "  (278, 118)\t0.18129731309546368\n",
      "  (278, 101)\t0.20720698260137876\n",
      "  (278, 74)\t0.22236316766841754\n",
      "  (278, 12)\t0.22236316766841754\n",
      "  (278, 10)\t0.15864010725712738\n",
      "  (278, 6)\t0.22236316766841754\n",
      "  (279, 519)\t0.4459133904604486\n",
      "  (279, 488)\t0.36124812284406355\n",
      "  (279, 304)\t0.527103417468771\n",
      "  (279, 263)\t0.42975837371153575\n",
      "  (279, 159)\t0.3938312144234557\n",
      "  (279, 47)\t0.23027753692666728\n"
     ]
    }
   ],
   "source": [
    "print(TFIDF)\n"
   ]
  },
  {
   "attachments": {},
   "cell_type": "markdown",
   "metadata": {},
   "source": [
    "_`Seperate label to its own array`_"
   ]
  },
  {
   "cell_type": "code",
   "execution_count": 9,
   "metadata": {},
   "outputs": [],
   "source": [
    "label = []\n",
    "for data in df['label']:\n",
    "    label.append(data)\n",
    "kolom = label.pop"
   ]
  },
  {
   "cell_type": "code",
   "execution_count": 10,
   "metadata": {},
   "outputs": [],
   "source": [
    "def Average(lst):\n",
    "    return sum(lst) / len(lst)"
   ]
  },
  {
   "attachments": {},
   "cell_type": "markdown",
   "metadata": {},
   "source": [
    "### KFold Cross Validation"
   ]
  },
  {
   "cell_type": "code",
   "execution_count": 11,
   "metadata": {},
   "outputs": [
    {
     "name": "stdout",
     "output_type": "stream",
     "text": [
      "Folds : 2 | Accuracy : 0.719 | Max, Min : 0.738, 0.700\n",
      "\n",
      "\n",
      "Folds : 3 | Accuracy : 0.719 | Max, Min : 0.731, 0.702\n",
      "\n",
      "\n",
      "Folds : 4 | Accuracy : 0.708 | Max, Min : 0.729, 0.657\n",
      "\n",
      "\n",
      "Folds : 5 | Accuracy : 0.708 | Max, Min : 0.732, 0.661\n",
      "\n",
      "\n",
      "Folds : 6 | Accuracy : 0.701 | Max, Min : 0.745, 0.660\n",
      "\n",
      "\n",
      "Folds : 7 | Accuracy : 0.715 | Max, Min : 0.825, 0.600\n",
      "\n",
      "\n",
      "Folds : 8 | Accuracy : 0.719 | Max, Min : 0.771, 0.629\n",
      "\n",
      "\n",
      "Folds : 9 | Accuracy : 0.708 | Max, Min : 0.806, 0.645\n",
      "\n",
      "\n",
      "Folds : 10 | Accuracy : 0.719 | Max, Min : 0.786, 0.643\n",
      "\n",
      "\n"
     ]
    }
   ],
   "source": [
    "folds = range(2,11)\n",
    "for k in folds:\n",
    "    accuracy=[]\n",
    "    kFoldCrossValidation = KFold(n_splits=k, random_state=0, shuffle = True)\n",
    "    for train, test in kFoldCrossValidation.split(TFIDF, label):\n",
    "        trainData, testData = TFIDF[train], TFIDF[test]\n",
    "        label = np.array(label)\n",
    "        trainData2, testData2 = label[train], label[test]\n",
    "        \n",
    "        SVM = SVC(kernel = 'linear', C = 1)\n",
    "        model = SVM.fit(trainData, trainData2)\n",
    "        prediksi = model.predict(testData)\n",
    "        \n",
    "        accuracy.append(accuracy_score(testData2, prediksi))\n",
    "        \n",
    "    print('Folds : %d | Accuracy : %.3f | Max, Min : %.3f, %.3f' \n",
    "          % (k, Average(accuracy), max(accuracy), min(accuracy)))\n",
    "    print(\"\\n\")"
   ]
  },
  {
   "attachments": {},
   "cell_type": "markdown",
   "metadata": {},
   "source": [
    "### Implementing KFold with chosen K value"
   ]
  },
  {
   "cell_type": "code",
   "execution_count": 15,
   "metadata": {},
   "outputs": [
    {
     "name": "stdout",
     "output_type": "stream",
     "text": [
      "\n",
      "Confusion Matrix: \n",
      " [[  9   0  67]\n",
      " [  1   0   8]\n",
      " [  4   0 192]]\n",
      "------------------------------------------------------------\n",
      "              precision    recall  f1-score   support\n",
      "\n",
      "    Positive     0.6429    0.1184    0.2000        76\n",
      "    Negative     0.0000    0.0000    0.0000         9\n",
      "     Neutral     0.7191    0.9796    0.8294       196\n",
      "\n",
      "    accuracy                         0.7153       281\n",
      "   macro avg     0.4540    0.3660    0.3431       281\n",
      "weighted avg     0.6754    0.7153    0.6326       281\n",
      "\n",
      "------------------------------------------------------------\n",
      "\n",
      "Accuracy : 0.715, Precission : 0.454, Recall : 0.366, F1 Score : 0.343\n"
     ]
    },
    {
     "name": "stderr",
     "output_type": "stream",
     "text": [
      "c:\\Users\\Madluke\\AppData\\Local\\Programs\\Python\\Python310\\lib\\site-packages\\sklearn\\metrics\\_classification.py:1344: UndefinedMetricWarning: Precision is ill-defined and being set to 0.0 in labels with no predicted samples. Use `zero_division` parameter to control this behavior.\n",
      "  _warn_prf(average, modifier, msg_start, len(result))\n",
      "c:\\Users\\Madluke\\AppData\\Local\\Programs\\Python\\Python310\\lib\\site-packages\\sklearn\\metrics\\_classification.py:1344: UndefinedMetricWarning: Precision and F-score are ill-defined and being set to 0.0 in labels with no predicted samples. Use `zero_division` parameter to control this behavior.\n",
      "  _warn_prf(average, modifier, msg_start, len(result))\n",
      "c:\\Users\\Madluke\\AppData\\Local\\Programs\\Python\\Python310\\lib\\site-packages\\sklearn\\metrics\\_classification.py:1344: UndefinedMetricWarning: Precision and F-score are ill-defined and being set to 0.0 in labels with no predicted samples. Use `zero_division` parameter to control this behavior.\n",
      "  _warn_prf(average, modifier, msg_start, len(result))\n",
      "c:\\Users\\Madluke\\AppData\\Local\\Programs\\Python\\Python310\\lib\\site-packages\\sklearn\\metrics\\_classification.py:1344: UndefinedMetricWarning: Precision and F-score are ill-defined and being set to 0.0 in labels with no predicted samples. Use `zero_division` parameter to control this behavior.\n",
      "  _warn_prf(average, modifier, msg_start, len(result))\n"
     ]
    }
   ],
   "source": [
    "#K-Fold Cross Validation will iterate k times\n",
    "kFoldCrossValidation = KFold(n_splits=7, random_state=0, shuffle = True)\n",
    "\n",
    "actual_classes = np.empty([0], dtype=int)\n",
    "predicted_classes = np.empty([0], dtype=int)\n",
    "    \n",
    "for train, test in kFoldCrossValidation.split(TFIDF, label):\n",
    "    #Initiate Train and Test Data then transform to TFIDF value. Then copy to new Train and Test variables. \n",
    "    trainData, testData = TFIDF[train], TFIDF[test]\n",
    "    label = np.array(label)\n",
    "    trainData2, testData2 = label[train], label[test]\n",
    "    \n",
    "    SVM = SVC(kernel = 'linear', C = 1)\n",
    "    model = SVM.fit(trainData, trainData2)\n",
    "    prediksi = model.predict(testData)\n",
    "    \n",
    "    actual_classes = np.append(actual_classes, label[test])\n",
    "    predicted_classes = np.append(predicted_classes, model.predict(testData))\n",
    "   \n",
    "    accuracy.append(accuracy_score(testData2, prediksi))\n",
    "\n",
    "conf_matrix = metrics.confusion_matrix(actual_classes, predicted_classes)\n",
    "svm_accuracy = metrics.accuracy_score(actual_classes, predicted_classes)\n",
    "precision = metrics.precision_score(actual_classes, predicted_classes, average='macro')\n",
    "recall = metrics.recall_score(actual_classes, predicted_classes, average='macro')\n",
    "f1score = metrics.f1_score(actual_classes, predicted_classes, average='macro')\n",
    "\n",
    "print(\"\\nConfusion Matrix: \\n\", conf_matrix)\n",
    "print(\"------------------------------------------------------------\")\n",
    "print(classification_report(actual_classes, predicted_classes, digits = 4,\n",
    "                           target_names = ['Positive', 'Negative', 'Neutral']))\n",
    "print(\"------------------------------------------------------------\")\n",
    "print(\"\\nAccuracy : %.3f, Precission : %.3f, Recall : %.3f, F1 Score : %.3f\" %(svm_accuracy, precision, recall, f1score))"
   ]
  },
  {
   "cell_type": "code",
   "execution_count": 17,
   "metadata": {},
   "outputs": [
    {
     "data": {
      "image/png": "[encoded data removed]",
      "text/plain": [
       "<Figure size 360x360 with 2 Axes>"
      ]
     },
     "metadata": {
      "needs_background": "light"
     },
     "output_type": "display_data"
    }
   ],
   "source": [
    "import seaborn as sns\n",
    "import matplotlib.pyplot as plt\n",
    "\n",
    "plt.figure(figsize = (5, 5))\n",
    "ax = sns.heatmap(conf_matrix, cmap = 'Blues',\n",
    "                    linecolor = 'white',\n",
    "                    linewidth = 1,\n",
    "                    annot = True,\n",
    "                    fmt = '',\n",
    "                    xticklabels = ['Positive', 'Negative'],\n",
    "                    yticklabels = ['Positive', 'Negative'])\n",
    "ax.set_title(\"Confusion Matrix for TFIDF\\n\")\n",
    "ax.set_xlabel(\"\\nPredicted Values\")\n",
    "ax.set_ylabel(\"\\nActual Values\")\n",
    "plt.show()"
   ]
  },
  {
   "cell_type": "code",
   "execution_count": null,
   "metadata": {},
   "outputs": [],
   "source": []
  }
 ],
 "metadata": {
  "kernelspec": {
   "display_name": "Python 3",
   "language": "python",
   "name": "python3"
  },
  "language_info": {
   "codemirror_mode": {
    "name": "ipython",
    "version": 3
   },
   "file_extension": ".py",
   "mimetype": "text/x-python",
   "name": "python",
   "nbconvert_exporter": "python",
   "pygments_lexer": "ipython3",
   "version": "3.10.1"
  },
  "orig_nbformat": 4
 },
 "nbformat": 4,
 "nbformat_minor": 2
}
