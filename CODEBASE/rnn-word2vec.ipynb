{
 "cells": [
  {
   "attachments": {},
   "cell_type": "markdown",
   "metadata": {},
   "source": [
    "## sentiment analys - word2vec feature weighting with RNN classification"
   ]
  },
  {
   "attachments": {},
   "cell_type": "markdown",
   "metadata": {},
   "source": [
    "`Term Weighting = Word2Vec`"
   ]
  },
  {
   "attachments": {},
   "cell_type": "markdown",
   "metadata": {},
   "source": [
    "## Libraries"
   ]
  },
  {
   "cell_type": "code",
   "execution_count": 1,
   "metadata": {},
   "outputs": [],
   "source": [
    "import pandas as pd\n",
    "import numpy as np\n",
    "import numpy as np \n",
    "import re #RegEx\n",
    "import itertools\n",
    "import sklearn\n",
    "\n",
    "import gensim\n",
    "from gensim.models import Word2Vec\n",
    "\n",
    "from nltk.tokenize import word_tokenize"
   ]
  },
  {
   "attachments": {},
   "cell_type": "markdown",
   "metadata": {},
   "source": [
    "## Load Dataset"
   ]
  },
  {
   "attachments": {},
   "cell_type": "markdown",
   "metadata": {},
   "source": [
    "_`preprocessed dataset`_"
   ]
  },
  {
   "cell_type": "code",
   "execution_count": 2,
   "metadata": {},
   "outputs": [
    {
     "data": {
      "text/html": [
       "<div>\n",
       "<style scoped>\n",
       "    .dataframe tbody tr th:only-of-type {\n",
       "        vertical-align: middle;\n",
       "    }\n",
       "\n",
       "    .dataframe tbody tr th {\n",
       "        vertical-align: top;\n",
       "    }\n",
       "\n",
       "    .dataframe thead th {\n",
       "        text-align: right;\n",
       "    }\n",
       "</style>\n",
       "<table border=\"1\" class=\"dataframe\">\n",
       "  <thead>\n",
       "    <tr style=\"text-align: right;\">\n",
       "      <th></th>\n",
       "      <th>content</th>\n",
       "      <th>stemming</th>\n",
       "      <th>label</th>\n",
       "    </tr>\n",
       "  </thead>\n",
       "  <tbody>\n",
       "    <tr>\n",
       "      <th>0</th>\n",
       "      <td>bagus</td>\n",
       "      <td>['bagus']</td>\n",
       "      <td>-1.0</td>\n",
       "    </tr>\n",
       "    <tr>\n",
       "      <th>1</th>\n",
       "      <td>Tampa tik tok hidub terasa sepi🤣🤣</td>\n",
       "      <td>['tampa', 'hidub', 'sepi', '', '']</td>\n",
       "      <td>1.0</td>\n",
       "    </tr>\n",
       "    <tr>\n",
       "      <th>2</th>\n",
       "      <td>Goid</td>\n",
       "      <td>['goid']</td>\n",
       "      <td>1.0</td>\n",
       "    </tr>\n",
       "    <tr>\n",
       "      <th>3</th>\n",
       "      <td>sangat bagus</td>\n",
       "      <td>['bagus']</td>\n",
       "      <td>1.0</td>\n",
       "    </tr>\n",
       "    <tr>\n",
       "      <th>4</th>\n",
       "      <td>P im ZZ@@@</td>\n",
       "      <td>['im', 'zz']</td>\n",
       "      <td>1.0</td>\n",
       "    </tr>\n",
       "  </tbody>\n",
       "</table>\n",
       "</div>"
      ],
      "text/plain": [
       "                             content                            stemming  \\\n",
       "0                              bagus                           ['bagus']   \n",
       "1  Tampa tik tok hidub terasa sepi🤣🤣  ['tampa', 'hidub', 'sepi', '', '']   \n",
       "2                               Goid                            ['goid']   \n",
       "3                       sangat bagus                           ['bagus']   \n",
       "4                         P im ZZ@@@                        ['im', 'zz']   \n",
       "\n",
       "   label  \n",
       "0   -1.0  \n",
       "1    1.0  \n",
       "2    1.0  \n",
       "3    1.0  \n",
       "4    1.0  "
      ]
     },
     "execution_count": 2,
     "metadata": {},
     "output_type": "execute_result"
    }
   ],
   "source": [
    "df = pd.read_csv('D:\\kuliah\\THE ONLY TA THINGS\\DATA\\cleaned_data_review.csv')\n",
    "df.head()"
   ]
  },
  {
   "cell_type": "code",
   "execution_count": 3,
   "metadata": {},
   "outputs": [],
   "source": [
    "df = df.dropna()\n",
    "df = df.reset_index(drop=True)"
   ]
  },
  {
   "cell_type": "code",
   "execution_count": 4,
   "metadata": {},
   "outputs": [
    {
     "data": {
      "text/plain": [
       "content     0\n",
       "stemming    0\n",
       "label       0\n",
       "dtype: int64"
      ]
     },
     "execution_count": 4,
     "metadata": {},
     "output_type": "execute_result"
    }
   ],
   "source": [
    "df.isnull().sum()"
   ]
  },
  {
   "attachments": {},
   "cell_type": "markdown",
   "metadata": {},
   "source": [
    "_`total label value`_"
   ]
  },
  {
   "cell_type": "code",
   "execution_count": 5,
   "metadata": {},
   "outputs": [
    {
     "data": {
      "text/plain": [
       " 1.0    196\n",
       "-1.0     76\n",
       " 0.0      9\n",
       "Name: label, dtype: int64"
      ]
     },
     "execution_count": 5,
     "metadata": {},
     "output_type": "execute_result"
    }
   ],
   "source": [
    "df['label'].value_counts()"
   ]
  },
  {
   "attachments": {},
   "cell_type": "markdown",
   "metadata": {},
   "source": [
    "## Word2Vec for feature weighting"
   ]
  },
  {
   "attachments": {},
   "cell_type": "markdown",
   "metadata": {},
   "source": [
    "_`Split data test and train before`_"
   ]
  },
  {
   "cell_type": "code",
   "execution_count": 6,
   "metadata": {},
   "outputs": [],
   "source": [
    "X = df.drop(['content'], axis = 1) \n",
    "y = df['label']"
   ]
  },
  {
   "cell_type": "code",
   "execution_count": 7,
   "metadata": {},
   "outputs": [
    {
     "data": {
      "text/html": [
       "<div>\n",
       "<style scoped>\n",
       "    .dataframe tbody tr th:only-of-type {\n",
       "        vertical-align: middle;\n",
       "    }\n",
       "\n",
       "    .dataframe tbody tr th {\n",
       "        vertical-align: top;\n",
       "    }\n",
       "\n",
       "    .dataframe thead th {\n",
       "        text-align: right;\n",
       "    }\n",
       "</style>\n",
       "<table border=\"1\" class=\"dataframe\">\n",
       "  <thead>\n",
       "    <tr style=\"text-align: right;\">\n",
       "      <th></th>\n",
       "      <th>stemming</th>\n",
       "      <th>label</th>\n",
       "    </tr>\n",
       "  </thead>\n",
       "  <tbody>\n",
       "    <tr>\n",
       "      <th>55</th>\n",
       "      <td>[]</td>\n",
       "      <td>1.0</td>\n",
       "    </tr>\n",
       "    <tr>\n",
       "      <th>196</th>\n",
       "      <td>[]</td>\n",
       "      <td>1.0</td>\n",
       "    </tr>\n",
       "    <tr>\n",
       "      <th>216</th>\n",
       "      <td>[]</td>\n",
       "      <td>1.0</td>\n",
       "    </tr>\n",
       "    <tr>\n",
       "      <th>38</th>\n",
       "      <td>['bagus']</td>\n",
       "      <td>-1.0</td>\n",
       "    </tr>\n",
       "    <tr>\n",
       "      <th>241</th>\n",
       "      <td>['komen']</td>\n",
       "      <td>1.0</td>\n",
       "    </tr>\n",
       "    <tr>\n",
       "      <th>...</th>\n",
       "      <td>...</td>\n",
       "      <td>...</td>\n",
       "    </tr>\n",
       "    <tr>\n",
       "      <th>188</th>\n",
       "      <td>['kanapa', 'minimal', 'fitur', 'posting', 'ula...</td>\n",
       "      <td>-1.0</td>\n",
       "    </tr>\n",
       "    <tr>\n",
       "      <th>71</th>\n",
       "      <td>['aplikasi', 'baik', 'banget', 'pokok', '', ''...</td>\n",
       "      <td>1.0</td>\n",
       "    </tr>\n",
       "    <tr>\n",
       "      <th>106</th>\n",
       "      <td>['logo', 'capcut', 'tiktok', 'baik']</td>\n",
       "      <td>-1.0</td>\n",
       "    </tr>\n",
       "    <tr>\n",
       "      <th>270</th>\n",
       "      <td>['bnget']</td>\n",
       "      <td>-1.0</td>\n",
       "    </tr>\n",
       "    <tr>\n",
       "      <th>102</th>\n",
       "      <td>['developer', 'fitur', 'aplikasi', 'belah', 'd...</td>\n",
       "      <td>1.0</td>\n",
       "    </tr>\n",
       "  </tbody>\n",
       "</table>\n",
       "<p>196 rows × 2 columns</p>\n",
       "</div>"
      ],
      "text/plain": [
       "                                              stemming  label\n",
       "55                                                  []    1.0\n",
       "196                                                 []    1.0\n",
       "216                                                 []    1.0\n",
       "38                                           ['bagus']   -1.0\n",
       "241                                          ['komen']    1.0\n",
       "..                                                 ...    ...\n",
       "188  ['kanapa', 'minimal', 'fitur', 'posting', 'ula...   -1.0\n",
       "71   ['aplikasi', 'baik', 'banget', 'pokok', '', ''...    1.0\n",
       "106               ['logo', 'capcut', 'tiktok', 'baik']   -1.0\n",
       "270                                          ['bnget']   -1.0\n",
       "102  ['developer', 'fitur', 'aplikasi', 'belah', 'd...    1.0\n",
       "\n",
       "[196 rows x 2 columns]"
      ]
     },
     "execution_count": 7,
     "metadata": {},
     "output_type": "execute_result"
    }
   ],
   "source": [
    "from sklearn.model_selection import train_test_split\n",
    "X_train, X_test, y_train, y_test = train_test_split(X, y, test_size = 0.3, random_state = 42)\n",
    "X_train"
   ]
  },
  {
   "attachments": {},
   "cell_type": "markdown",
   "metadata": {},
   "source": [
    "_`remove null ('[]') value`_"
   ]
  },
  {
   "cell_type": "code",
   "execution_count": 8,
   "metadata": {},
   "outputs": [
    {
     "data": {
      "text/html": [
       "<div>\n",
       "<style scoped>\n",
       "    .dataframe tbody tr th:only-of-type {\n",
       "        vertical-align: middle;\n",
       "    }\n",
       "\n",
       "    .dataframe tbody tr th {\n",
       "        vertical-align: top;\n",
       "    }\n",
       "\n",
       "    .dataframe thead th {\n",
       "        text-align: right;\n",
       "    }\n",
       "</style>\n",
       "<table border=\"1\" class=\"dataframe\">\n",
       "  <thead>\n",
       "    <tr style=\"text-align: right;\">\n",
       "      <th></th>\n",
       "      <th>content</th>\n",
       "      <th>stemming</th>\n",
       "      <th>label</th>\n",
       "    </tr>\n",
       "  </thead>\n",
       "  <tbody>\n",
       "    <tr>\n",
       "      <th>0</th>\n",
       "      <td>bagus</td>\n",
       "      <td>['bagus']</td>\n",
       "      <td>-1.0</td>\n",
       "    </tr>\n",
       "    <tr>\n",
       "      <th>1</th>\n",
       "      <td>Tampa tik tok hidub terasa sepi🤣🤣</td>\n",
       "      <td>['tampa', 'hidub', 'sepi', '', '']</td>\n",
       "      <td>1.0</td>\n",
       "    </tr>\n",
       "    <tr>\n",
       "      <th>2</th>\n",
       "      <td>Goid</td>\n",
       "      <td>['goid']</td>\n",
       "      <td>1.0</td>\n",
       "    </tr>\n",
       "    <tr>\n",
       "      <th>3</th>\n",
       "      <td>sangat bagus</td>\n",
       "      <td>['bagus']</td>\n",
       "      <td>1.0</td>\n",
       "    </tr>\n",
       "    <tr>\n",
       "      <th>4</th>\n",
       "      <td>P im ZZ@@@</td>\n",
       "      <td>['im', 'zz']</td>\n",
       "      <td>1.0</td>\n",
       "    </tr>\n",
       "    <tr>\n",
       "      <th>...</th>\n",
       "      <td>...</td>\n",
       "      <td>...</td>\n",
       "      <td>...</td>\n",
       "    </tr>\n",
       "    <tr>\n",
       "      <th>275</th>\n",
       "      <td>Sangat recommended</td>\n",
       "      <td>['recommended']</td>\n",
       "      <td>1.0</td>\n",
       "    </tr>\n",
       "    <tr>\n",
       "      <th>276</th>\n",
       "      <td>Baguss bagusss abguss baguss bagusss bagsusus ...</td>\n",
       "      <td>['baguss', 'bagusss', 'abguss', 'baguss', 'bag...</td>\n",
       "      <td>1.0</td>\n",
       "    </tr>\n",
       "    <tr>\n",
       "      <th>277</th>\n",
       "      <td>Saya suka aplikasi tik tok ini. Saya suka bang...</td>\n",
       "      <td>['suka', 'aplikasi', 'suka', 'banget', 'adik',...</td>\n",
       "      <td>1.0</td>\n",
       "    </tr>\n",
       "    <tr>\n",
       "      <th>278</th>\n",
       "      <td>Halo developer, saya pengguna tiktok dengan na...</td>\n",
       "      <td>['developer', 'guna', 'tiktok', 'nama', 'epw',...</td>\n",
       "      <td>-1.0</td>\n",
       "    </tr>\n",
       "    <tr>\n",
       "      <th>279</th>\n",
       "      <td>Bgs tapi Vidio ku gk masukk fyp🗿</td>\n",
       "      <td>['bagus', 'vidio', 'ku', 'tidak', 'masukk', 'f...</td>\n",
       "      <td>1.0</td>\n",
       "    </tr>\n",
       "  </tbody>\n",
       "</table>\n",
       "<p>257 rows × 3 columns</p>\n",
       "</div>"
      ],
      "text/plain": [
       "                                               content  \\\n",
       "0                                                bagus   \n",
       "1                    Tampa tik tok hidub terasa sepi🤣🤣   \n",
       "2                                                 Goid   \n",
       "3                                         sangat bagus   \n",
       "4                                           P im ZZ@@@   \n",
       "..                                                 ...   \n",
       "275                                 Sangat recommended   \n",
       "276  Baguss bagusss abguss baguss bagusss bagsusus ...   \n",
       "277  Saya suka aplikasi tik tok ini. Saya suka bang...   \n",
       "278  Halo developer, saya pengguna tiktok dengan na...   \n",
       "279                   Bgs tapi Vidio ku gk masukk fyp🗿   \n",
       "\n",
       "                                              stemming  label  \n",
       "0                                            ['bagus']   -1.0  \n",
       "1                   ['tampa', 'hidub', 'sepi', '', '']    1.0  \n",
       "2                                             ['goid']    1.0  \n",
       "3                                            ['bagus']    1.0  \n",
       "4                                         ['im', 'zz']    1.0  \n",
       "..                                                 ...    ...  \n",
       "275                                    ['recommended']    1.0  \n",
       "276  ['baguss', 'bagusss', 'abguss', 'baguss', 'bag...    1.0  \n",
       "277  ['suka', 'aplikasi', 'suka', 'banget', 'adik',...    1.0  \n",
       "278  ['developer', 'guna', 'tiktok', 'nama', 'epw',...   -1.0  \n",
       "279  ['bagus', 'vidio', 'ku', 'tidak', 'masukk', 'f...    1.0  \n",
       "\n",
       "[257 rows x 3 columns]"
      ]
     },
     "execution_count": 8,
     "metadata": {},
     "output_type": "execute_result"
    }
   ],
   "source": [
    "X_train = df[df.stemming != '[]']\n",
    "X_train\n"
   ]
  },
  {
   "attachments": {},
   "cell_type": "markdown",
   "metadata": {},
   "source": [
    "_`Define function for word2vec weighting`_"
   ]
  },
  {
   "cell_type": "code",
   "execution_count": 9,
   "metadata": {},
   "outputs": [],
   "source": [
    "def mean(z): \n",
    "    return sum(itertools.chain(z))/len(z)\n",
    "\n",
    "def wordTokenize(text):\n",
    "  return word_tokenize(text)\n",
    "\n",
    "\n",
    "words = X_train['stemming'].apply(wordTokenize)\n",
    "w2v_model = gensim.models.Word2Vec(words, min_count = 2, window = 5) \n",
    "\n",
    "\n",
    "\n",
    "def embeddToWord2Vec(text):\n",
    "    result = [w2v_model.wv[w] for w in text if w in w2v_model.wv.key_to_index]\n",
    "    feature = [mean(x) for x in zip(*result)]\n",
    "    return feature"
   ]
  },
  {
   "attachments": {},
   "cell_type": "markdown",
   "metadata": {},
   "source": [
    "_`Weighting each dataset (training, test)`_"
   ]
  },
  {
   "cell_type": "code",
   "execution_count": 10,
   "metadata": {},
   "outputs": [
    {
     "name": "stdout",
     "output_type": "stream",
     "text": [
      "[[-0.25684804  0.19792743  0.26529769 ... -0.13194032 -0.03489628\n",
      "   0.17373688]\n",
      " [-0.31209823  0.24278777  0.33058439 ... -0.16465136 -0.0395188\n",
      "   0.21582996]\n",
      " [-0.25684804  0.19792743  0.26529769 ... -0.13194032 -0.03489628\n",
      "   0.17373688]\n",
      " ...\n",
      " [-0.31500613  0.24514884  0.33402053 ... -0.166373   -0.03976209\n",
      "   0.21804539]\n",
      " [-0.32630542  0.25432329  0.34737239 ... -0.17306278 -0.04070745\n",
      "   0.2266539 ]\n",
      " [-0.31712097  0.24686598  0.33651954 ... -0.1676251  -0.03993903\n",
      "   0.21965661]]\n"
     ]
    }
   ],
   "source": [
    "word2vec_training_features = X_train['stemming'].apply(embeddToWord2Vec)\n",
    "word2vec_test_features = X_test['stemming'].apply(embeddToWord2Vec)\n",
    "\n",
    "feature = [x for x in word2vec_training_features.transpose()]\n",
    "word2vec_training_features = np.asarray(feature)\n",
    "\n",
    "feature = [x for x in word2vec_test_features.transpose()]\n",
    "word2vec_test_features = np.asarray(feature)\n",
    "\n",
    "\n",
    "print(word2vec_training_features)"
   ]
  },
  {
   "cell_type": "code",
   "execution_count": 11,
   "metadata": {},
   "outputs": [
    {
     "name": "stdout",
     "output_type": "stream",
     "text": [
      "(257, 100)\n"
     ]
    }
   ],
   "source": [
    "print(word2vec_training_features.shape)"
   ]
  },
  {
   "cell_type": "code",
   "execution_count": 12,
   "metadata": {},
   "outputs": [
    {
     "name": "stdout",
     "output_type": "stream",
     "text": [
      "\t\t\tFeature Shapes:\n"
     ]
    },
    {
     "ename": "NameError",
     "evalue": "name 'val_x' is not defined",
     "output_type": "error",
     "traceback": [
      "\u001b[1;31m---------------------------------------------------------------------------\u001b[0m",
      "\u001b[1;31mNameError\u001b[0m                                 Traceback (most recent call last)",
      "\u001b[1;32m~\\AppData\\Local\\Temp\\ipykernel_2932\\2423764071.py\u001b[0m in \u001b[0;36m<module>\u001b[1;34m\u001b[0m\n\u001b[0;32m      1\u001b[0m \u001b[0mprint\u001b[0m\u001b[1;33m(\u001b[0m\u001b[1;34m\"\\t\\t\\tFeature Shapes:\"\u001b[0m\u001b[1;33m)\u001b[0m\u001b[1;33m\u001b[0m\u001b[1;33m\u001b[0m\u001b[0m\n\u001b[0;32m      2\u001b[0m print(\"Train set: \\t\\t{}\".format(word2vec_training_features.shape), \n\u001b[1;32m----> 3\u001b[1;33m       \u001b[1;34m\"\\nValidation set: \\t{}\"\u001b[0m\u001b[1;33m.\u001b[0m\u001b[0mformat\u001b[0m\u001b[1;33m(\u001b[0m\u001b[0mval_x\u001b[0m\u001b[1;33m.\u001b[0m\u001b[0mshape\u001b[0m\u001b[1;33m)\u001b[0m\u001b[1;33m,\u001b[0m\u001b[1;33m\u001b[0m\u001b[1;33m\u001b[0m\u001b[0m\n\u001b[0m\u001b[0;32m      4\u001b[0m       \"\\nTest set: \\t\\t{}\".format(test_x.shape))\n",
      "\u001b[1;31mNameError\u001b[0m: name 'val_x' is not defined"
     ]
    }
   ],
   "source": [
    "print(\"\\t\\t\\tFeature Shapes:\")\n",
    "print(\"Train set: \\t\\t{}\".format(word2vec_training_features.shape), \n",
    "      \"\\nValidation set: \\t{}\".format(val_x.shape),\n",
    "      \"\\nTest set: \\t\\t{}\".format(test_x.shape))"
   ]
  },
  {
   "cell_type": "code",
   "execution_count": null,
   "metadata": {},
   "outputs": [],
   "source": []
  }
 ],
 "metadata": {
  "kernelspec": {
   "display_name": "Python 3",
   "language": "python",
   "name": "python3"
  },
  "language_info": {
   "codemirror_mode": {
    "name": "ipython",
    "version": 3
   },
   "file_extension": ".py",
   "mimetype": "text/x-python",
   "name": "python",
   "nbconvert_exporter": "python",
   "pygments_lexer": "ipython3",
   "version": "3.10.1"
  },
  "orig_nbformat": 4,
  "vscode": {
   "interpreter": {
    "hash": "7a6fc5b08cfc0492d5a0383abe73dea2bfb4952181345aa19ea63b702fdddc2c"
   }
  }
 },
 "nbformat": 4,
 "nbformat_minor": 2
}
