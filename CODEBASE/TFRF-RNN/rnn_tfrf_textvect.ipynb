{
 "cells": [
  {
   "cell_type": "code",
   "execution_count": 7,
   "metadata": {},
   "outputs": [
    {
     "data": {
      "text/html": [
       "<div>\n",
       "<style scoped>\n",
       "    .dataframe tbody tr th:only-of-type {\n",
       "        vertical-align: middle;\n",
       "    }\n",
       "\n",
       "    .dataframe tbody tr th {\n",
       "        vertical-align: top;\n",
       "    }\n",
       "\n",
       "    .dataframe thead th {\n",
       "        text-align: right;\n",
       "    }\n",
       "</style>\n",
       "<table border=\"1\" class=\"dataframe\">\n",
       "  <thead>\n",
       "    <tr style=\"text-align: right;\">\n",
       "      <th></th>\n",
       "      <th>content</th>\n",
       "      <th>score</th>\n",
       "      <th>at</th>\n",
       "      <th>label</th>\n",
       "      <th>cleansing</th>\n",
       "      <th>case_folding</th>\n",
       "      <th>no_unwanted</th>\n",
       "      <th>tokenize</th>\n",
       "      <th>normalization</th>\n",
       "      <th>stopwords</th>\n",
       "      <th>stemming</th>\n",
       "      <th>clean</th>\n",
       "    </tr>\n",
       "  </thead>\n",
       "  <tbody>\n",
       "    <tr>\n",
       "      <th>0</th>\n",
       "      <td>Keren</td>\n",
       "      <td>5</td>\n",
       "      <td>2023-04-14 19:21:43</td>\n",
       "      <td>1</td>\n",
       "      <td>Keren</td>\n",
       "      <td>keren</td>\n",
       "      <td>keren</td>\n",
       "      <td>['keren']</td>\n",
       "      <td>['keren']</td>\n",
       "      <td>['keren']</td>\n",
       "      <td>['keren']</td>\n",
       "      <td>keren</td>\n",
       "    </tr>\n",
       "    <tr>\n",
       "      <th>1</th>\n",
       "      <td>Woy tiktok menangis gw event mlbb creator base...</td>\n",
       "      <td>5</td>\n",
       "      <td>2023-04-07 23:01:39</td>\n",
       "      <td>1</td>\n",
       "      <td>Woy tiktok menangis gw event mlbb creator base...</td>\n",
       "      <td>woy tiktok menangis gw event mlbb creator base...</td>\n",
       "      <td>woy tiktok menangis gw event mlbb creator base...</td>\n",
       "      <td>['woy', 'tiktok', 'menangis', 'gw', 'event', '...</td>\n",
       "      <td>['oi', 'tiktok', 'menangis', 'gue', 'event', '...</td>\n",
       "      <td>['tiktok', 'menangis', 'gue', 'event', 'mlbb',...</td>\n",
       "      <td>['tiktok', 'menang', 'gue', 'event', 'mlbb', '...</td>\n",
       "      <td>tiktok menang gue event mlbb creator base gue ...</td>\n",
       "    </tr>\n",
       "    <tr>\n",
       "      <th>2</th>\n",
       "      <td>Halo disini saya ingin menyampaikan kepada and...</td>\n",
       "      <td>4</td>\n",
       "      <td>2023-04-07 20:13:21</td>\n",
       "      <td>1</td>\n",
       "      <td>Halo disini saya ingin menyampaikan kepada and...</td>\n",
       "      <td>halo disini saya ingin menyampaikan kepada and...</td>\n",
       "      <td>halo disini saya ingin menyampaikan kepada and...</td>\n",
       "      <td>['halo', 'disini', 'saya', 'ingin', 'menyampai...</td>\n",
       "      <td>['halo', 'di sini', 'saya', 'ingin', 'menyampa...</td>\n",
       "      <td>['di sini', 'membuka', 'komen', 'lag', 'koneks...</td>\n",
       "      <td>['di sini', 'buka', 'komen', 'lag', 'koneksi',...</td>\n",
       "      <td>di sini buka komen lag koneksi internet bagus ...</td>\n",
       "    </tr>\n",
       "    <tr>\n",
       "      <th>3</th>\n",
       "      <td>Jangan mau main tiktokla paket kuota cpt hbis ...</td>\n",
       "      <td>2</td>\n",
       "      <td>2023-04-11 17:06:47</td>\n",
       "      <td>-1</td>\n",
       "      <td>Jangan mau main tiktokla paket kuota cpt hbis ...</td>\n",
       "      <td>jangan mau main tiktokla paket kuota cpt hbis ...</td>\n",
       "      <td>jangan mau main tiktokla paket kuota cpt hbis ...</td>\n",
       "      <td>['jangan', 'mau', 'main', 'tiktokla', 'paket',...</td>\n",
       "      <td>['jangan', 'mau', 'main', 'tiktokla', 'paket',...</td>\n",
       "      <td>['main', 'tiktokla', 'paket', 'kuota', 'cepat'...</td>\n",
       "      <td>['main', 'tiktokla', 'paket', 'kuota', 'cepat'...</td>\n",
       "      <td>main tiktokla paket kuota cepat habis potong k...</td>\n",
       "    </tr>\n",
       "    <tr>\n",
       "      <th>4</th>\n",
       "      <td>Sangat menghibur asyik dan seru</td>\n",
       "      <td>5</td>\n",
       "      <td>2023-04-13 21:08:45</td>\n",
       "      <td>1</td>\n",
       "      <td>Sangat menghibur asyik dan seru</td>\n",
       "      <td>sangat menghibur asyik dan seru</td>\n",
       "      <td>sangat menghibur asyik dan seru</td>\n",
       "      <td>['sangat', 'menghibur', 'asyik', 'dan', 'seru']</td>\n",
       "      <td>['sangat', 'menghibur', 'asyik', 'dan', 'seru']</td>\n",
       "      <td>['menghibur', 'seru']</td>\n",
       "      <td>['hibur', 'seru']</td>\n",
       "      <td>hibur seru</td>\n",
       "    </tr>\n",
       "  </tbody>\n",
       "</table>\n",
       "</div>"
      ],
      "text/plain": [
       "                                             content  score   \n",
       "0                                              Keren      5  \\\n",
       "1  Woy tiktok menangis gw event mlbb creator base...      5   \n",
       "2  Halo disini saya ingin menyampaikan kepada and...      4   \n",
       "3  Jangan mau main tiktokla paket kuota cpt hbis ...      2   \n",
       "4                    Sangat menghibur asyik dan seru      5   \n",
       "\n",
       "                    at  label   \n",
       "0  2023-04-14 19:21:43      1  \\\n",
       "1  2023-04-07 23:01:39      1   \n",
       "2  2023-04-07 20:13:21      1   \n",
       "3  2023-04-11 17:06:47     -1   \n",
       "4  2023-04-13 21:08:45      1   \n",
       "\n",
       "                                           cleansing   \n",
       "0                                              Keren  \\\n",
       "1  Woy tiktok menangis gw event mlbb creator base...   \n",
       "2  Halo disini saya ingin menyampaikan kepada and...   \n",
       "3  Jangan mau main tiktokla paket kuota cpt hbis ...   \n",
       "4                    Sangat menghibur asyik dan seru   \n",
       "\n",
       "                                        case_folding   \n",
       "0                                              keren  \\\n",
       "1  woy tiktok menangis gw event mlbb creator base...   \n",
       "2  halo disini saya ingin menyampaikan kepada and...   \n",
       "3  jangan mau main tiktokla paket kuota cpt hbis ...   \n",
       "4                    sangat menghibur asyik dan seru   \n",
       "\n",
       "                                         no_unwanted   \n",
       "0                                              keren  \\\n",
       "1  woy tiktok menangis gw event mlbb creator base...   \n",
       "2  halo disini saya ingin menyampaikan kepada and...   \n",
       "3  jangan mau main tiktokla paket kuota cpt hbis ...   \n",
       "4                    sangat menghibur asyik dan seru   \n",
       "\n",
       "                                            tokenize   \n",
       "0                                          ['keren']  \\\n",
       "1  ['woy', 'tiktok', 'menangis', 'gw', 'event', '...   \n",
       "2  ['halo', 'disini', 'saya', 'ingin', 'menyampai...   \n",
       "3  ['jangan', 'mau', 'main', 'tiktokla', 'paket',...   \n",
       "4    ['sangat', 'menghibur', 'asyik', 'dan', 'seru']   \n",
       "\n",
       "                                       normalization   \n",
       "0                                          ['keren']  \\\n",
       "1  ['oi', 'tiktok', 'menangis', 'gue', 'event', '...   \n",
       "2  ['halo', 'di sini', 'saya', 'ingin', 'menyampa...   \n",
       "3  ['jangan', 'mau', 'main', 'tiktokla', 'paket',...   \n",
       "4    ['sangat', 'menghibur', 'asyik', 'dan', 'seru']   \n",
       "\n",
       "                                           stopwords   \n",
       "0                                          ['keren']  \\\n",
       "1  ['tiktok', 'menangis', 'gue', 'event', 'mlbb',...   \n",
       "2  ['di sini', 'membuka', 'komen', 'lag', 'koneks...   \n",
       "3  ['main', 'tiktokla', 'paket', 'kuota', 'cepat'...   \n",
       "4                              ['menghibur', 'seru']   \n",
       "\n",
       "                                            stemming   \n",
       "0                                          ['keren']  \\\n",
       "1  ['tiktok', 'menang', 'gue', 'event', 'mlbb', '...   \n",
       "2  ['di sini', 'buka', 'komen', 'lag', 'koneksi',...   \n",
       "3  ['main', 'tiktokla', 'paket', 'kuota', 'cepat'...   \n",
       "4                                  ['hibur', 'seru']   \n",
       "\n",
       "                                               clean  \n",
       "0                                              keren  \n",
       "1  tiktok menang gue event mlbb creator base gue ...  \n",
       "2  di sini buka komen lag koneksi internet bagus ...  \n",
       "3  main tiktokla paket kuota cepat habis potong k...  \n",
       "4                                         hibur seru  "
      ]
     },
     "execution_count": 7,
     "metadata": {},
     "output_type": "execute_result"
    }
   ],
   "source": [
    "import pandas as pd\n",
    "import numpy as np\n",
    "import tensorflow as tf\n",
    "from sklearn.feature_extraction.text import TfidfVectorizer, CountVectorizer\n",
    "from textvec import vectorizers\n",
    "\n",
    "\n",
    "\n",
    "from tensorflow.keras.models import Sequential\n",
    "from tensorflow.keras.layers import Dense, Dropout, LSTM, Bidirectional, SimpleRNN\n",
    "from tensorflow.keras.utils import to_categorical\n",
    "\n",
    "# Load the dataset from a CSV file\n",
    "df = pd.read_csv('D:\\kuliah\\THE ONLY TA THINGS\\DATA\\data clean\\cleaned_15000_data_sample.csv')\n",
    "df.head()"
   ]
  },
  {
   "cell_type": "code",
   "execution_count": 3,
   "metadata": {},
   "outputs": [],
   "source": [
    "# constants\n",
    "TF_RF_MAX_FEATURES = 1000\n",
    "EPOCH_VAL = 10"
   ]
  },
  {
   "cell_type": "code",
   "execution_count": 4,
   "metadata": {},
   "outputs": [],
   "source": [
    "# Split the data into features and labels\n",
    "# df['tweet_clean'] = df['tweet_clean'].astype(str)\n",
    "reviews = df['clean'].astype(str).values\n",
    "\n",
    "raw_label = df['label']\n",
    "# labels = pd.get_dummies(raw_label).astype(int).values\n",
    "labels = to_categorical(raw_label, num_classes=3)"
   ]
  },
  {
   "cell_type": "code",
   "execution_count": 5,
   "metadata": {},
   "outputs": [
    {
     "data": {
      "text/plain": [
       "array([[0., 1., 0.],\n",
       "       [0., 1., 0.],\n",
       "       [0., 1., 0.],\n",
       "       ...,\n",
       "       [0., 1., 0.],\n",
       "       [0., 0., 1.],\n",
       "       [0., 1., 0.]], dtype=float32)"
      ]
     },
     "execution_count": 5,
     "metadata": {},
     "output_type": "execute_result"
    }
   ],
   "source": [
    "labels"
   ]
  },
  {
   "cell_type": "code",
   "execution_count": 6,
   "metadata": {},
   "outputs": [],
   "source": [
    "# Split the data into training and testing sets\n",
    "from sklearn.model_selection import train_test_split\n",
    "review_train, review_test, label_train, label_test = train_test_split(reviews, labels, test_size=0.3, random_state=42)"
   ]
  },
  {
   "cell_type": "code",
   "execution_count": 11,
   "metadata": {},
   "outputs": [
    {
     "ename": "TypeError",
     "evalue": "__init__() got an unexpected keyword argument 'max'",
     "output_type": "error",
     "traceback": [
      "\u001b[1;31m---------------------------------------------------------------------------\u001b[0m",
      "\u001b[1;31mTypeError\u001b[0m                                 Traceback (most recent call last)",
      "Cell \u001b[1;32mIn[11], line 2\u001b[0m\n\u001b[0;32m      1\u001b[0m \u001b[39m# Vectorize your training and testing data using TF-RF\u001b[39;00m\n\u001b[1;32m----> 2\u001b[0m tf_rf_vectorizer \u001b[39m=\u001b[39m vectorizers\u001b[39m.\u001b[39;49mTfrfVectorizer(\u001b[39mmax\u001b[39;49m\u001b[39m=\u001b[39;49mTF_RF_MAX_FEATURES)\n\u001b[0;32m      3\u001b[0m tf_rf_review_train \u001b[39m=\u001b[39m tf_rf_vectorizer\u001b[39m.\u001b[39mfit_transform(review_train)\u001b[39m.\u001b[39mtoarray()\n\u001b[0;32m      4\u001b[0m tf_rf_review_test \u001b[39m=\u001b[39m tf_rf_vectorizer\u001b[39m.\u001b[39mtransform(review_test)\u001b[39m.\u001b[39mtoarray()\n",
      "\u001b[1;31mTypeError\u001b[0m: __init__() got an unexpected keyword argument 'max'"
     ]
    }
   ],
   "source": [
    "vectorizer = CountVectorizer(strip_accents='unicode',token_pattern=r'\\w{1,}',ngram_range=(1, 1)).fit(df['stemming'])\n",
    "tfrf_vec = vectorizers.TfrfVectorizer(sublinear_tf=True)\n",
    "tfrf_vec.fit(vectorizer.transform(df['stemming']), df['label'])\n",
    "TFRF = tfrf_vec.transform(vectorizer.transform(df['stemming']))\n",
    "TFRF = TFRF.toarray()"
   ]
  },
  {
   "cell_type": "code",
   "execution_count": 9,
   "metadata": {},
   "outputs": [
    {
     "data": {
      "text/plain": [
       "array([[0., 0., 0., ..., 0., 0., 0.],\n",
       "       [0., 0., 0., ..., 0., 0., 0.],\n",
       "       [0., 0., 0., ..., 0., 0., 0.],\n",
       "       ...,\n",
       "       [0., 0., 0., ..., 0., 0., 0.],\n",
       "       [0., 0., 0., ..., 0., 0., 0.],\n",
       "       [0., 0., 0., ..., 0., 0., 0.]])"
      ]
     },
     "execution_count": 9,
     "metadata": {},
     "output_type": "execute_result"
    }
   ],
   "source": [
    "TFRF"
   ]
  },
  {
   "cell_type": "code",
   "execution_count": null,
   "metadata": {},
   "outputs": [],
   "source": []
  }
 ],
 "metadata": {
  "kernelspec": {
   "display_name": "Python 3",
   "language": "python",
   "name": "python3"
  },
  "language_info": {
   "codemirror_mode": {
    "name": "ipython",
    "version": 3
   },
   "file_extension": ".py",
   "mimetype": "text/x-python",
   "name": "python",
   "nbconvert_exporter": "python",
   "pygments_lexer": "ipython3",
   "version": "3.8.0"
  },
  "orig_nbformat": 4
 },
 "nbformat": 4,
 "nbformat_minor": 2
}
